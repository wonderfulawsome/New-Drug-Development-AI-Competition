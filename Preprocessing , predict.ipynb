{
 "cells": [
  {
   "cell_type": "code",
   "execution_count": 122,
   "id": "bc6406cb",
   "metadata": {},
   "outputs": [],
   "source": [
    "# 필요한 라이브러리 불러오기\n",
    "import pandas as pd\n",
    "\n",
    "# 훈련 데이터 파일 경로\n",
    "train_data_path = r'C:\\Users\\82106\\Desktop\\데이터분석 프로젝트\\신약개발 AI경진대회\\data\\open\\train.csv'\n",
    "\n",
    "# 훈련 데이터 불러오기\n",
    "train_data = pd.read_csv(train_data_path)\n"
   ]
  },
  {
   "cell_type": "markdown",
   "id": "db8987f8",
   "metadata": {},
   "source": [
    "## 결측치 처리"
   ]
  },
  {
   "cell_type": "code",
   "execution_count": 123,
   "id": "24d4ba46",
   "metadata": {},
   "outputs": [
    {
     "data": {
      "text/plain": [
       "id                            0\n",
       "SMILES                        0\n",
       "MLM                           0\n",
       "HLM                           0\n",
       "AlogP                         2\n",
       "Molecular_Weight              0\n",
       "Num_H_Acceptors               0\n",
       "Num_H_Donors                  0\n",
       "Num_RotatableBonds            0\n",
       "LogD                          0\n",
       "Molecular_PolarSurfaceArea    0\n",
       "dtype: int64"
      ]
     },
     "execution_count": 123,
     "metadata": {},
     "output_type": "execute_result"
    }
   ],
   "source": [
    "# 결측치 확인\n",
    "train_data.isnull().sum()\n"
   ]
  },
  {
   "cell_type": "code",
   "execution_count": 124,
   "id": "f2aca8be",
   "metadata": {},
   "outputs": [],
   "source": [
    "# 결측치를 채우는 예시: 평균 값으로 채우기\n",
    "train_data['AlogP'].fillna(train_data['AlogP'].mean(), inplace=True)"
   ]
  },
  {
   "cell_type": "code",
   "execution_count": 125,
   "id": "405e97f1",
   "metadata": {},
   "outputs": [
    {
     "data": {
      "text/plain": [
       "id                            0\n",
       "SMILES                        0\n",
       "MLM                           0\n",
       "HLM                           0\n",
       "AlogP                         0\n",
       "Molecular_Weight              0\n",
       "Num_H_Acceptors               0\n",
       "Num_H_Donors                  0\n",
       "Num_RotatableBonds            0\n",
       "LogD                          0\n",
       "Molecular_PolarSurfaceArea    0\n",
       "dtype: int64"
      ]
     },
     "execution_count": 125,
     "metadata": {},
     "output_type": "execute_result"
    }
   ],
   "source": [
    "train_data.isnull().sum()"
   ]
  },
  {
   "cell_type": "markdown",
   "id": "fdb60997",
   "metadata": {},
   "source": [
    "## SMILES 변수 RDKit 를 이용하여 분자 지문(Molecular Fingerprints)을 생성"
   ]
  },
  {
   "cell_type": "code",
   "execution_count": 72,
   "id": "64468425",
   "metadata": {},
   "outputs": [
    {
     "name": "stdout",
     "output_type": "stream",
     "text": [
      "Requirement already satisfied: rdkit-pypi in c:\\users\\82106\\anaconda3\\lib\\site-packages (2022.9.5)\n",
      "Requirement already satisfied: numpy in c:\\users\\82106\\anaconda3\\lib\\site-packages (from rdkit-pypi) (1.22.4)\n",
      "Requirement already satisfied: Pillow in c:\\users\\82106\\anaconda3\\lib\\site-packages (from rdkit-pypi) (9.0.1)\n",
      "Note: you may need to restart the kernel to use updated packages.\n"
     ]
    }
   ],
   "source": [
    "pip install rdkit-pypi\n"
   ]
  },
  {
   "cell_type": "code",
   "execution_count": 96,
   "id": "2d311f07",
   "metadata": {},
   "outputs": [],
   "source": [
    "from rdkit import Chem\n",
    "from rdkit.Chem import AllChem\n",
    "\n",
    "# SMILES 데이터를 RDKit 분자 객체로 변환\n",
    "molecules = [Chem.MolFromSmiles(smiles) for smiles in train_data['SMILES']]\n",
    "\n",
    "# 분자 지문(fingerprint) 생성\n",
    "fingerprints = [AllChem.GetMorganFingerprintAsBitVect(mol, 2, nBits=1024) for mol in molecules]\n",
    "\n",
    "# 분자 지문을 배열로 변환\n",
    "fingerprint_array = [list(fp.ToBitString()) for fp in fingerprints]\n",
    "\n",
    "# 배열을 DataFrame으로 변환\n",
    "fingerprint_df = pd.DataFrame(fingerprint_array, columns=[f'bit_{i}' for i in range(1024)])\n",
    "\n",
    "# 원래 데이터프레임과 분자 지문 데이터프레임을 병합\n",
    "merged_df = pd.concat([train_data, fingerprint_df], axis=1)\n"
   ]
  },
  {
   "cell_type": "markdown",
   "id": "0e81398f",
   "metadata": {},
   "source": [
    "## 스케일링"
   ]
  },
  {
   "cell_type": "code",
   "execution_count": 126,
   "id": "9a0253f6",
   "metadata": {},
   "outputs": [],
   "source": [
    "from sklearn.preprocessing import StandardScaler\n",
    "\n",
    "# 숫자형 특성 목록\n",
    "numeric_features = ['AlogP', 'Molecular_Weight', 'Num_H_Acceptors', 'Num_H_Donors', 'Num_RotatableBonds', 'LogD', 'Molecular_PolarSurfaceArea']\n",
    "\n",
    "# 특성 스케일링 (표준화)\n",
    "scaler = StandardScaler()\n",
    "train_data[numeric_features] = scaler.fit_transform(train_data[numeric_features])\n"
   ]
  },
  {
   "cell_type": "markdown",
   "id": "30beb091",
   "metadata": {},
   "source": [
    "## 불필요한 특성 삭제"
   ]
  },
  {
   "cell_type": "code",
   "execution_count": 127,
   "id": "8bf650ad",
   "metadata": {},
   "outputs": [],
   "source": [
    "from sklearn.model_selection import train_test_split\n",
    "\n",
    "# 특성 (X)과 타겟 (y) 분리\n",
    "X = train_data.drop(columns=['MLM'])\n",
    "y = train_data['MLM']\n",
    "\n",
    "# 데이터 분할\n",
    "X_train, X_test, y_train, y_test = train_test_split(X, y, test_size=0.2, random_state=42)\n"
   ]
  },
  {
   "cell_type": "code",
   "execution_count": 128,
   "id": "d905d0dc",
   "metadata": {},
   "outputs": [],
   "source": [
    "# 불필요한 특성 삭제 \n",
    "X_train = X_train.drop(columns=['id'])\n",
    "X_test = X_test.drop(columns=['id'])\n"
   ]
  },
  {
   "cell_type": "markdown",
   "id": "af7b9635",
   "metadata": {},
   "source": [
    "# 모델 학습 LinearRegeression"
   ]
  },
  {
   "cell_type": "code",
   "execution_count": 129,
   "id": "dfe47520",
   "metadata": {},
   "outputs": [
    {
     "name": "stdout",
     "output_type": "stream",
     "text": [
      "Mean Squared Error: 662.2813003872544\n"
     ]
    }
   ],
   "source": [
    "from sklearn.model_selection import train_test_split\n",
    "from sklearn.linear_model import LinearRegression\n",
    "from sklearn.metrics import mean_squared_error\n",
    "\n",
    "# 분자 지문을 포함한 DataFrame에서 타겟 변수와 특성을 선택\n",
    "X = train_data.drop(columns=['MLM','SMILES'])  # 'MLM'과 'SMILES' 열을 제외한 특성 선택\n",
    "y = train_data['MLM']  # 'MLM' 열을 타겟 변수로 선택\n",
    "\n",
    "# 훈련 데이터와 테스트 데이터로 분할\n",
    "X_train, X_test, y_train, y_test = train_test_split(X, y, test_size=0.2, random_state=42)\n",
    "\n",
    "# 불필요한 특성 삭제 \n",
    "X_train = X_train.drop(columns=['id'])\n",
    "X_test = X_test.drop(columns=['id'])\n",
    "\n",
    "# 선형 회귀 모델 생성\n",
    "model = LinearRegression()\n",
    "\n",
    "# 모델 학습\n",
    "model.fit(X_train, y_train)\n",
    "\n",
    "# 테스트 데이터로 예측\n",
    "y_pred = model.predict(X_test)\n",
    "\n",
    "# 평균 제곱 오차(MSE) 계산\n",
    "mse = mean_squared_error(y_test, y_pred)\n",
    "print(f'Mean Squared Error: {mse}')\n"
   ]
  },
  {
   "cell_type": "markdown",
   "id": "5c33d844",
   "metadata": {},
   "source": [
    "# GradientBoosting"
   ]
  },
  {
   "cell_type": "code",
   "execution_count": 130,
   "id": "2f0c65da",
   "metadata": {},
   "outputs": [
    {
     "name": "stdout",
     "output_type": "stream",
     "text": [
      "Mean Squared Error: 638.256593664714\n"
     ]
    }
   ],
   "source": [
    "from sklearn.ensemble import GradientBoostingRegressor  # 회귀 모델을 사용할 경우\n",
    "# 또는\n",
    "# from sklearn.ensemble import GradientBoostingClassifier  # 분류 모델을 사용할 경우\n",
    "\n",
    "# 그라디언트 부스팅 모델 생성\n",
    "model = GradientBoostingRegressor()  # 또는 GradientBoostingClassifier()를 사용하여 분류 모델 생성\n",
    "# 모델 학습\n",
    "model.fit(X_train, y_train)\n",
    "# 예측 수행\n",
    "y_pred = model.predict(X_test)\n",
    "from sklearn.metrics import mean_squared_error\n",
    "\n",
    "# 회귀 모델의 예측 성능 평가 (예시: 평균 제곱 오차 MSE)\n",
    "mse = mean_squared_error(y_test, y_pred)\n",
    "print(f'Mean Squared Error: {mse}')\n"
   ]
  },
  {
   "cell_type": "markdown",
   "id": "46dd5263",
   "metadata": {},
   "source": [
    "# 나이브 베이즈 (Naive Bayes)"
   ]
  },
  {
   "cell_type": "code",
   "execution_count": 27,
   "id": "2bf7acc8",
   "metadata": {},
   "outputs": [
    {
     "name": "stdout",
     "output_type": "stream",
     "text": [
      "Accuracy: 0.14142857142857143\n",
      "              precision    recall  f1-score   support\n",
      "\n",
      "           0       0.14      1.00      0.24        97\n",
      "           1       1.00      0.00      0.01       603\n",
      "\n",
      "    accuracy                           0.14       700\n",
      "   macro avg       0.57      0.50      0.13       700\n",
      "weighted avg       0.88      0.14      0.04       700\n",
      "\n"
     ]
    }
   ],
   "source": [
    "from sklearn.naive_bayes import GaussianNB\n",
    "from sklearn.model_selection import train_test_split\n",
    "from sklearn.metrics import accuracy_score, classification_report\n",
    "\n",
    "# 이진 분류를 위한 임계값 설정 (예시: 0.5)\n",
    "threshold = 0.5\n",
    "\n",
    "# 연속형 타겟 변수를 이진 분류로 변환\n",
    "y_binary = (y > threshold).astype(int)\n",
    "\n",
    "# 데이터 전처리 및 훈련/테스트 데이터 분할\n",
    "X_train, X_test, y_train, y_test = train_test_split(X, y_binary, test_size=0.2, random_state=42)\n",
    "\n",
    "# 가우시안 나이브 베이즈 모델 생성\n",
    "model = GaussianNB()\n",
    "\n",
    "# 모델 학습\n",
    "model.fit(X_train, y_train)\n",
    "\n",
    "# 예측 수행\n",
    "y_pred = model.predict(X_test)\n",
    "\n",
    "# 정확도 평가\n",
    "accuracy = accuracy_score(y_test, y_pred)\n",
    "print(f'Accuracy: {accuracy}')\n",
    "\n",
    "# 분류 보고서 출력\n",
    "report = classification_report(y_test, y_pred)\n",
    "print(report)\n"
   ]
  },
  {
   "cell_type": "markdown",
   "id": "dedca9a3",
   "metadata": {},
   "source": [
    "# 커널 서포트 벡터 머신 (Kernel Support Vector Machine)"
   ]
  },
  {
   "cell_type": "code",
   "execution_count": 132,
   "id": "25395f5f",
   "metadata": {},
   "outputs": [],
   "source": [
    "import numpy as np\n",
    "\n",
    "# 임계값 설정\n",
    "threshold = 0.5  # 예시 임계값\n",
    "\n",
    "# 연속형 타겟 변수를 이진 분류로 변환\n",
    "y_binary = np.where(y > threshold, 1, 0)\n",
    "\n",
    "# 이제 y_binary를 이진 분류로 사용할 수 있습니다.\n"
   ]
  },
  {
   "cell_type": "code",
   "execution_count": 133,
   "id": "1e4c2b3f",
   "metadata": {},
   "outputs": [
    {
     "name": "stdout",
     "output_type": "stream",
     "text": [
      "Mean Squared Error: 696.8156905138584\n"
     ]
    }
   ],
   "source": [
    "from sklearn.svm import SVC\n",
    "from sklearn.metrics import accuracy_score, classification_report\n",
    "from sklearn.svm import SVR\n",
    "\n",
    "# SVR 모델 생성\n",
    "model = SVR(kernel='rbf')  # RBF 커널 사용 (회귀 모델)\n",
    "\n",
    "# SVR 모델 학습\n",
    "model.fit(X_train, y_train)\n",
    "\n",
    "# 예측 수행\n",
    "y_pred = model.predict(X_test)\n",
    "\n",
    "# 회귀 모델에서는 평균 제곱 오차 (MSE) 등을 사용하여 성능 평가\n",
    "from sklearn.metrics import mean_squared_error\n",
    "\n",
    "mse = mean_squared_error(y_test, y_pred)\n",
    "print(f'Mean Squared Error: {mse}')\n"
   ]
  },
  {
   "cell_type": "code",
   "execution_count": null,
   "id": "f5e1143e",
   "metadata": {},
   "outputs": [],
   "source": [
    "from sklearn.svm import SVR\n",
    "from sklearn.model_selection import GridSearchCV\n",
    "from sklearn.metrics import mean_squared_error\n",
    "\n",
    "# SVR 모델 생성\n",
    "model = SVR()\n",
    "\n",
    "# 튜닝할 하이퍼파라미터 범위 설정 (더욱 제한된 범위)\n",
    "param_grid = {\n",
    "    'C': [1],  # C 값\n",
    "    'kernel': ['rbf'],  # 커널 종류 (RBF만 사용)\n",
    "    'gamma': [0.1],  # gamma 값\n",
    "    'epsilon': [0.1]  # epsilon 값\n",
    "}\n",
    "\n",
    "# GridSearchCV를 사용하여 모델 튜닝\n",
    "grid_search = GridSearchCV(estimator=model, param_grid=param_grid, scoring='neg_mean_squared_error', cv=5)\n",
    "grid_search.fit(X_train, y_train)\n",
    "\n",
    "# 최적의 하이퍼파라미터 확인\n",
    "best_params = grid_search.best_params_\n",
    "print(\"Best Hyperparameters:\", best_params)\n",
    "\n",
    "# 최적의 모델을 얻기\n",
    "best_model = grid_search.best_estimator_\n",
    "\n",
    "# 테스트 데이터로 예측\n",
    "y_pred = best_model.predict(X_test)\n",
    "\n",
    "# 평균 제곱 오차 (MSE) 계산\n",
    "mse = mean_squared_error(y_test, y_pred)\n",
    "print(f'Mean Squared Error: {mse}')\n"
   ]
  },
  {
   "cell_type": "code",
   "execution_count": null,
   "id": "81b39ffb",
   "metadata": {},
   "outputs": [],
   "source": []
  }
 ],
 "metadata": {
  "kernelspec": {
   "display_name": "Python 3 (ipykernel)",
   "language": "python",
   "name": "python3"
  },
  "language_info": {
   "codemirror_mode": {
    "name": "ipython",
    "version": 3
   },
   "file_extension": ".py",
   "mimetype": "text/x-python",
   "name": "python",
   "nbconvert_exporter": "python",
   "pygments_lexer": "ipython3",
   "version": "3.9.12"
  }
 },
 "nbformat": 4,
 "nbformat_minor": 5
}
